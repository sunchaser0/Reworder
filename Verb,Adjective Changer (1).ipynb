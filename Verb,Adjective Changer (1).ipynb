{
 "cells": [
  {
   "cell_type": "code",
   "execution_count": 247,
   "metadata": {},
   "outputs": [],
   "source": [
    "import random \n",
    "# item = \"A\"\n",
    "# possible pairing = \"AA, AT, AG, AC, TA, TT, TG, TC, GA, GT, GG, GC, CA, CT, CG, CC\"\n",
    "\n",
    "def toList(word,stringWORD):\n",
    "    word_list = []\n",
    "    word_list.append(stringWORD)\n",
    "    for word in word.split(\",\"):\n",
    "        letter_list = \"\"\n",
    "        for letters in list(word):\n",
    "            if letters != \",\":\n",
    "                letter_list+= letters\n",
    "        if letter_list[0] == \" \":\n",
    "            word_list.append(letter_list[1:])\n",
    "        else:\n",
    "            word_list.append(letter_list)\n",
    "    return word_list"
   ]
  },
  {
   "cell_type": "code",
   "execution_count": 248,
   "metadata": {},
   "outputs": [],
   "source": [
    "def changeWords(sentence):\n",
    "\n",
    "    new_sentence = \"\"\n",
    "    for word in sentence.split(\" \"):\n",
    "        wasIN = False\n",
    "        letter_list = \"\"\n",
    "        for letters in list(word):\n",
    "            if letters != \",\" and letters != \".\":\n",
    "                letter_list+=letters\n",
    "        for key in dictionary:\n",
    "            for item in dictionary[key]:\n",
    "                if item == letter_list:\n",
    "                    new_sentence+= dictionary[key][random.randint(0,len(dictionary[key])-1)] + \" \"\n",
    "                    wasIN = True\n",
    "        if wasIN != True:\n",
    "            new_sentence+= letter_list + \" \"\n",
    "    return new_sentence"
   ]
  },
  {
   "cell_type": "code",
   "execution_count": 298,
   "metadata": {},
   "outputs": [
    {
     "data": {
      "text/plain": [
       "'an useful'"
      ]
     },
     "execution_count": 298,
     "metadata": {},
     "output_type": "execute_result"
    }
   ],
   "source": [
    "def changeAorAN(sentence):\n",
    "    sentence = sentence.split(\" \")\n",
    "    new_sentence = \"\"\n",
    "    for x in range(0,len(sentence)):\n",
    "        if sentence[x] == \"an\":\n",
    "            if list(sentence[x+1])[0] in [\"a\",\"e\",\"i\",\"o\",\"u\",\"y\"]:\n",
    "                new_sentence += sentence[x] + \" \"\n",
    "            else:\n",
    "                new_sentence += \"a\" + \" \" \n",
    "#         elif sentence[x] == \"a\":\n",
    "#              if list(sentence[x+1])[0] in [\"a\",\"e\",\"i\",\"o\",\"u\",\"y\"]:\n",
    "#                 new_sentence  += \"an \"\n",
    "#              else:\n",
    "#                 new_sentence += sentence[x] + \" \"\n",
    "        else:\n",
    "            new_sentence+= sentence[x] + \" \" \n",
    "            \n",
    "    if new_sentence[-1] == \" \":\n",
    "        return new_sentence[0:-1]\n",
    "    else:\n",
    "        return new_sentence\n",
    "changeAorAN(\"an useful\")"
   ]
  },
  {
   "cell_type": "code",
   "execution_count": 288,
   "metadata": {},
   "outputs": [],
   "source": [
    "# adjectives\n",
    "big = \"big, great, huge, of considerable size, sizeable, substantial, immense, enormous, colossal, massive, mammoth, vast, godly, prodigious, tremendous, gigantic, giant, monumental, stupendous, gargantuan, elephantine, titanic, mountainous, monstrous, towering, tall, high, lofty, mighty, epic, inordinate, voluminous, unlimited, king-size, king-sized, giant-size, giant-sized, man-size, man-sized, outsize, oversized, overgrown, considerable, major, Brobdingnagian, cumbersome, unwieldy, whopping, thumping, thumping great, mega, humongous, monster, astronomical, ginormous,abundant, copious, plentiful, ample, liberal, generous, lavish, profuse, bountiful, bumper, boundless, teeming, overflowing, considerable, superabundant, opulent, handsome, galore, sufficient\"\n",
    "used = \"\"\n",
    "eager = \"anxious, impatient, waiting with bated breath, longing, yearning, aching, wishing, hoping, hopeful, thirsty, hungry, greedy, desirous of, hankering after, intent on, bent on, set on, on the edge of one's seat, on pins and needles, on tenterhooks, keen, itching, gagging, desperate\"\n",
    "small = \"little, small-scale, compact, bijou, portable, tiny, miniature, mini, minute, microscopic, nanoscopic, minuscule, toy, baby; poky, cramped, boxy; wee; informaltiddly, teeny, weeny, teeny-weeny, teensy, teensy-weensy, itsy-bitsy, itty-bitty, eensy, eensy-weensy, pocket-sized, half-pint, dinky, ickle, with no room to swing a cat,short, little, slight, slightly built, small-boned, petite, diminutive, elfin, tiny, puny, undersized, stunted, squat, stubby, dwarf, bantam\"\n",
    "important = \"main, chief, principal, key, major, salient, prime, dominant, foremost, supreme, predominant, paramount, overriding, cardinal, crucial, vital, indispensable, critical, essential, significant, urgent, central, fundamental, number-one, valuable, valued, useful, of use, beneficial, necessary, essential, indispensable, vital, of the essence, of concern, of interest, relevant, pertinent, material, germane\"\n",
    "strange = \"weird, different, abnormal, aberrant, anomalous, bent, bizarre, deviant, queer, eccentric, freakish, fanatical, odd, eerie, peculiar, unorthodox, nonstandard, atypical, different, irregular, nonconforming, offbeat, unusual, extraordinary, insane, irrational, disorderly, rare, exceptional, extreme, outlandish\"\n",
    "angry = \"mad, furious, enraged, excited, wrathful, indignant, exasperated, aroused, inflamed, fuming, volcanically furious, red-faced\"\n",
    "good = \"amazing, incredible, unbelievable, improbable, fabulous, wonderful, fantastic, astonishing, astounding, extraordinary, superlative, spectacular, sublime, stunning, stupendous, earth-shatteringly good, great\""
   ]
  },
  {
   "cell_type": "code",
   "execution_count": 289,
   "metadata": {},
   "outputs": [],
   "source": [
    "adjectives = (big,small,important,strange,angry,amazing)"
   ]
  },
  {
   "cell_type": "code",
   "execution_count": 290,
   "metadata": {},
   "outputs": [],
   "source": [
    "# nouns\n",
    "person = \"human being, individual, human, being, living soul, soul, mortal, creature, fellow, figure, personage, character\""
   ]
  },
  {
   "cell_type": "code",
   "execution_count": 291,
   "metadata": {},
   "outputs": [],
   "source": [
    "# verbs\n",
    "move = \"plod, go, creep, crawl, inch, poke, drag, toddle, shuffle, trot, dawdle, walk, traipse, mosey, jog, plug, trudge, slump, lumber, trail, lag, run, sprint, trip, bound, hotfoot, high-tail, streak, stride, tear, breeze, whisk, rush, dash, dart, bolt, fling, scamper, scurry, skedaddle, scoot, scuttle, scramble, race, chase, hasten, hurry, hump, gallop, lope, accelerate, stir, budge, travel, wander, roam, journey, trek, ride, spin, slip, glide, slide, slither, coast, flow, sail, saunter, hobble, amble, stagger, paddle, slouch, prance, straggle, meander, perambulate, waddle, wobble, pace, swagger, promenade, lunge\"\n",
    "do = \"execute, enact, carry out, finish, conclude, effect, accomplish, achieve, attain\"\n",
    "take = \"hold, catch, seize, grasp, win, capture, acquire, pick, choose, select, prefer, remove, steal, lift, rob, engage, bewitch, purchase, buy, retract, recall, assume, occupy, consume\"\n",
    "have = \"hold, possess, own, contain, acquire, gain, maintain, believe, bear, beget, occupy, absorb, fill, enjoy\"\n",
    "make = \"create, originate, invent, beget, form, construct, design, fabricate, manufacture, produce, build, develop, do, effect, execute, compose, perform, accomplish, earn, gain, obtain, acquire, get\"\n",
    "use = \"employ, utilize, exhaust, spend, expend, consume, exercise\"\n",
    "damage = \"fracture, rupture, shatter, smash, wreck, crash, demolish, atomize,break,ruin, demolish, raze, waste, kill, slay, end, extinguish\"\n",
    "get = \"acquire, obtain, secure, procure, gain, fetch, find, score, accumulate, win, earn, rep, catch, net, bag, derive, collect, gather, glean, pick up, accept, come by, regain, salvage\""
   ]
  },
  {
   "cell_type": "code",
   "execution_count": 292,
   "metadata": {},
   "outputs": [],
   "source": [
    "verbs = (move,do,take,have,make,use,damage,get)"
   ]
  },
  {
   "cell_type": "code",
   "execution_count": 293,
   "metadata": {},
   "outputs": [],
   "source": [
    "dictionary = {}\n",
    "\n",
    "# dictionary[\"template\"] = toList([],\"template\")\n",
    "\n",
    "\n",
    "\n",
    "dictionary[\"person\"] = toList(person,\"person\")\n",
    "\n",
    "\n",
    "\n",
    "dictionary[\"eager\"] = toList(eager,\"eager\")\n",
    "dictionary[\"move\"] = toList(move,\"move\")\n",
    "dictionary[\"big\"] = toList(big,\"big\")\n",
    "dictionary[\"angry\"] = toList(angry,\"angry\")\n",
    "dictionary[\"good\"] = toList(good,\"good\")\n",
    "dictionary[\"small\"] = toList(small,\"small\")\n",
    "dictionary[\"important\"] = toList(important,\"important\")\n",
    "dictionary[\"strange\"] = toList(strange,\"strange\")\n",
    "\n",
    "dictionary[\"do\"] = toList(big,\"do\")\n",
    "dictionary[\"take\"] = toList(take,\"take\")\n",
    "dictionary[\"have\"] = toList(have,\"have\")\n",
    "dictionary[\"make\"] = toList(make,\"make\")\n",
    "dictionary[\"use\"] = toList(use,\"use\")\n",
    "dictionary[\"get\"] = toList(get,\"get\")\n",
    "dictionary[\"damage\"] = toList(damage,\"damage\")\n",
    "\n"
   ]
  },
  {
   "cell_type": "code",
   "execution_count": 294,
   "metadata": {},
   "outputs": [
    {
     "data": {
      "text/plain": [
       "'This is a improbable character with a pertinent but fanatical business expend '"
      ]
     },
     "execution_count": 294,
     "metadata": {},
     "output_type": "execute_result"
    }
   ],
   "source": [
    "changeAorAN(changeWords(\"This is a good person with an important but weird business use\"))"
   ]
  },
  {
   "cell_type": "code",
   "execution_count": 296,
   "metadata": {},
   "outputs": [
    {
     "data": {
      "text/plain": [
       "'This is an amazing human being with an useful but extraordinary business employ '"
      ]
     },
     "execution_count": 296,
     "metadata": {},
     "output_type": "execute_result"
    }
   ],
   "source": [
    "changeAorAN('This is an amazing human being with an useful but extraordinary business employ ')"
   ]
  },
  {
   "cell_type": "code",
   "execution_count": null,
   "metadata": {},
   "outputs": [],
   "source": []
  },
  {
   "cell_type": "code",
   "execution_count": null,
   "metadata": {},
   "outputs": [],
   "source": []
  }
 ],
 "metadata": {
  "kernelspec": {
   "display_name": "Python 3",
   "language": "python",
   "name": "python3"
  },
  "language_info": {
   "codemirror_mode": {
    "name": "ipython",
    "version": 3
   },
   "file_extension": ".py",
   "mimetype": "text/x-python",
   "name": "python",
   "nbconvert_exporter": "python",
   "pygments_lexer": "ipython3",
   "version": "3.6.5"
  }
 },
 "nbformat": 4,
 "nbformat_minor": 2
}
